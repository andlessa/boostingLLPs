{
 "cells": [
  {
   "cell_type": "code",
   "execution_count": 1,
   "id": "d21b1b7e",
   "metadata": {},
   "outputs": [],
   "source": [
    "import os\n",
    "import subprocess\n",
    "import sys\n",
    "import numpy as np"
   ]
  },
  {
   "cell_type": "markdown",
   "id": "f1ef1363",
   "metadata": {},
   "source": [
    "## Gerar os eventos 2-Body"
   ]
  },
  {
   "cell_type": "code",
   "execution_count": 2,
   "id": "f0207468",
   "metadata": {},
   "outputs": [],
   "source": [
    "inputFile = 'GammaBeta_2C_n30000.dat'\n",
    "inputFile = os.path.join('./validation_data',inputFile)\n",
    "outputFile = inputFile.replace('.dat','_fixed.dat')\n",
    "\n",
    "\n",
    "f = open(inputFile,'r')\n",
    "outF = open(outputFile,'w')\n",
    "outF.write('# gb_0,gb_1,M0,M1\\n')\n",
    "lines = f.readlines()\n",
    "f.close()\n",
    "il = 0\n",
    "MXList = np.arange(300,4051,60)\n",
    "for MX in MXList:\n",
    "    M1list = np.linspace(100,(MX-10),6)\n",
    "    for i,M1 in enumerate(M1list):\n",
    "        line = lines[il]\n",
    "        newLine = line.replace('[','').replace(']','').replace('\\n','')\n",
    "        newLine = newLine+',%1.2f,%1.2f\\n' %(MX,M1)\n",
    "        outF.write(newLine)\n",
    "        il += 1\n",
    "outF.close()        "
   ]
  },
  {
   "cell_type": "markdown",
   "id": "7703798a",
   "metadata": {},
   "source": [
    "## Gerar os eventos Massive SM Particule, 2-Steps Decay"
   ]
  },
  {
   "cell_type": "code",
   "execution_count": 3,
   "id": "bb0e244d",
   "metadata": {},
   "outputs": [],
   "source": [
    "inputFile = 'GammaBeta_3D_H_n40000.dat'\n",
    "inputFile = os.path.join('./validation_data',inputFile)\n",
    "outputFile = inputFile.replace('.dat','_fixed.dat')\n",
    "\n",
    "\n",
    "f = open(inputFile,'r')\n",
    "outF = open(outputFile,'w')\n",
    "outF.write('# gb_0,gb_1,gb_2,M0,M1,M2\\n')\n",
    "lines = f.readlines()\n",
    "f.close()\n",
    "il = 0\n",
    "MXList = np.arange(300,4050,100)\n",
    "for MX in MXList:\n",
    "    M1list = np.linspace(200,(MX-80),4)\n",
    "    for M1 in M1list:\n",
    "        M2list = np.linspace(80,(M1-100),4)\n",
    "        for M2 in M2list:\n",
    "            line = lines[il]\n",
    "            newLine = line.replace('[','').replace(']','').replace('\\n','')\n",
    "            newLine = newLine+',%1.2f,%1.2f,%1.2f\\n' %(MX,M1,M2)\n",
    "            outF.write(newLine)\n",
    "            il += 1\n",
    "outF.close()        "
   ]
  },
  {
   "cell_type": "markdown",
   "id": "d6d6f8a9",
   "metadata": {},
   "source": [
    "## Gerar os eventos spin 0"
   ]
  },
  {
   "cell_type": "code",
   "execution_count": 4,
   "id": "518ccd40",
   "metadata": {},
   "outputs": [],
   "source": [
    "inputFile = 'GammaBeta_spin0_Analise.dat'\n",
    "inputFile = os.path.join('./validation_data',inputFile)\n",
    "outputFile = inputFile.replace('.dat','_fixed.dat')\n",
    "\n",
    "\n",
    "f = open(inputFile,'r')\n",
    "outF = open(outputFile,'w')\n",
    "outF.write('# gb_0,gb_1,M0,M1\\n')\n",
    "lines = f.readlines()\n",
    "f.close()\n",
    "il = 0\n",
    "MXList = np.arange(300,4051,60)\n",
    "for MX in MXList:\n",
    "    M1list = np.linspace(100,MX-10,6)\n",
    "    for M1 in M1list:\n",
    "        line = lines[il]\n",
    "        newLine = line.replace('[','').replace(']','').replace('\\n','')\n",
    "        newLine = newLine+',%1.2f,%1.2f\\n' %(MX,M1)\n",
    "        outF.write(newLine)\n",
    "        il += 1\n",
    "outF.close()        "
   ]
  },
  {
   "cell_type": "markdown",
   "id": "084eef8a",
   "metadata": {},
   "source": [
    "## Gerar os eventos 3-corpos"
   ]
  },
  {
   "cell_type": "code",
   "execution_count": 5,
   "id": "d280afe8",
   "metadata": {},
   "outputs": [],
   "source": [
    "inputFile = 'GammaBeta_3C_Analise.dat'\n",
    "inputFile = os.path.join('./validation_data',inputFile)\n",
    "outputFile = inputFile.replace('.dat','_fixed.dat')\n",
    "\n",
    "\n",
    "f = open(inputFile,'r')\n",
    "outF = open(outputFile,'w')\n",
    "outF.write('# gb_0,gb_1,M0,M1\\n')\n",
    "lines = f.readlines()\n",
    "f.close()\n",
    "il = 0\n",
    "MXList = np.arange(300,4051,60)\n",
    "for MX in MXList:\n",
    "    M1list = np.linspace(100,(MX-10),6)\n",
    "    for i,M1 in enumerate(M1list):\n",
    "        line = lines[il]\n",
    "        newLine = line.replace('[','').replace(']','').replace('\\n','')\n",
    "        newLine = newLine+',%1.2f,%1.2f\\n' %(MX,M1)\n",
    "        outF.write(newLine)\n",
    "        il += 1\n",
    "outF.close()        "
   ]
  },
  {
   "cell_type": "markdown",
   "id": "77c1b59d",
   "metadata": {},
   "source": [
    "## Gerar os eventos spin 1/2"
   ]
  },
  {
   "cell_type": "code",
   "execution_count": 6,
   "id": "f0bf90bf",
   "metadata": {},
   "outputs": [],
   "source": [
    "inputFile = 'GammaBeta_spinhalf_n20000.dat'\n",
    "inputFile = os.path.join('./validation_data',inputFile)\n",
    "outputFile = inputFile.replace('.dat','_fixed.dat')\n",
    "\n",
    "\n",
    "f = open(inputFile,'r')\n",
    "outF = open(outputFile,'w')\n",
    "outF.write('# gb_0,gb_1,M0,M1\\n')\n",
    "lines = f.readlines()\n",
    "f.close()\n",
    "il = 0\n",
    "MXList = np.arange(300,4051,60)\n",
    "for MX in MXList:\n",
    "    M1list = np.linspace(100,(MX-10),6)\n",
    "    for i,M1 in enumerate(M1list):\n",
    "        line = lines[il]\n",
    "        newLine = line.replace('[','').replace(']','').replace('\\n','')\n",
    "        newLine = newLine+',%1.2f,%1.2f\\n' %(MX,M1)\n",
    "        outF.write(newLine)\n",
    "        il += 1\n",
    "outF.close()        "
   ]
  },
  {
   "cell_type": "markdown",
   "id": "236b04ed",
   "metadata": {},
   "source": [
    "## Gerar os eventos T-Chanel"
   ]
  },
  {
   "cell_type": "code",
   "execution_count": 7,
   "id": "f367a443",
   "metadata": {},
   "outputs": [],
   "source": [
    "inputFile = 'GammaBeta_T-chanel_n10000.dat'\n",
    "inputFile = os.path.join('./validation_data',inputFile)\n",
    "outputFile = inputFile.replace('.dat','_fixed.dat')\n",
    "\n",
    "\n",
    "f = open(inputFile,'r')\n",
    "outF = open(outputFile,'w')\n",
    "outF.write('# gb_0,gb_1,M0,M1\\n')\n",
    "lines = f.readlines()\n",
    "f.close()\n",
    "il = 0\n",
    "MXList = np.arange(300,4051,60)\n",
    "for MX in MXList:\n",
    "    M1list = np.linspace(100,(MX-10),6)\n",
    "    for i,M1 in enumerate(M1list):\n",
    "        line = lines[il]\n",
    "        newLine = line.replace('[','').replace(']','').replace('\\n','')\n",
    "        newLine = newLine+',%1.2f,%1.2f\\n' %(MX,M1)\n",
    "        outF.write(newLine)\n",
    "        il += 1\n",
    "outF.close()        "
   ]
  },
  {
   "cell_type": "markdown",
   "id": "95f6fdb9",
   "metadata": {},
   "source": [
    "## Gerar os eventos Massive SM Particule"
   ]
  },
  {
   "cell_type": "code",
   "execution_count": 8,
   "id": "bdb15447",
   "metadata": {},
   "outputs": [],
   "source": [
    "inputFile = 'GammaBeta_spinmeioW_n20000.dat'\n",
    "inputFile = os.path.join('./validation_data',inputFile)\n",
    "outputFile = inputFile.replace('.dat','_fixed.dat')\n",
    "\n",
    "\n",
    "f = open(inputFile,'r')\n",
    "outF = open(outputFile,'w')\n",
    "outF.write('# gb_0,gb_1,M0,M1\\n')\n",
    "lines = f.readlines()\n",
    "f.close()\n",
    "il = 0\n",
    "MXList = np.arange(300,4051,60)\n",
    "for MX in MXList:\n",
    "    M1list = np.linspace(80,(MX-100),6)\n",
    "    for i,M1 in enumerate(M1list):\n",
    "        line = lines[il]\n",
    "        newLine = line.replace('[','').replace(']','').replace('\\n','')\n",
    "        newLine = newLine+',%1.2f,%1.2f\\n' %(MX,M1)\n",
    "        outF.write(newLine)\n",
    "        il += 1\n",
    "outF.close()        "
   ]
  },
  {
   "cell_type": "markdown",
   "id": "9aee9f28",
   "metadata": {},
   "source": [
    "## Gerar os eventos 2 Steps decay"
   ]
  },
  {
   "cell_type": "code",
   "execution_count": 9,
   "id": "d1274b4e",
   "metadata": {},
   "outputs": [],
   "source": [
    "inputFile = 'GammaBeta_3D_Go_n30000.dat'\n",
    "inputFile = os.path.join('./validation_data',inputFile)\n",
    "outputFile = inputFile.replace('.dat','_fixed.dat')\n",
    "\n",
    "\n",
    "f = open(inputFile,'r')\n",
    "outF = open(outputFile,'w')\n",
    "outF.write('gb_0,gb_1,gb_2,M0,M1,M2\\n')\n",
    "lines = f.readlines()\n",
    "f.close()\n",
    "il = 0\n",
    "MXList = np.arange(300,4050,100)\n",
    "for MX in MXList:\n",
    "    M1list = np.linspace(200,(MX-80),4)\n",
    "    for M1 in M1list:\n",
    "        M2list = np.linspace(80,(M1-100),4)\n",
    "        for M2 in M2list:\n",
    "            line = lines[il]\n",
    "            newLine = line.replace('[','').replace(']','').replace('\\n','')\n",
    "            newLine = newLine+',%1.2f,%1.2f,%1.2f\\n' %(MX,M1,M2)\n",
    "            outF.write(newLine)\n",
    "            il += 1\n",
    "outF.close()        "
   ]
  },
  {
   "cell_type": "code",
   "execution_count": null,
   "id": "c1bfbcff",
   "metadata": {},
   "outputs": [],
   "source": []
  }
 ],
 "metadata": {
  "kernelspec": {
   "display_name": "Python 3 (ipykernel)",
   "language": "python",
   "name": "python3"
  },
  "language_info": {
   "codemirror_mode": {
    "name": "ipython",
    "version": 3
   },
   "file_extension": ".py",
   "mimetype": "text/x-python",
   "name": "python",
   "nbconvert_exporter": "python",
   "pygments_lexer": "ipython3",
   "version": "3.9.7"
  }
 },
 "nbformat": 4,
 "nbformat_minor": 5
}
